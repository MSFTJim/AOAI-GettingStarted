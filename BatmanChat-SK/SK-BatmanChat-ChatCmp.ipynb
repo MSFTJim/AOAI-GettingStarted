{
 "cells": [
  {
   "cell_type": "markdown",
   "metadata": {},
   "source": [
    "---\n",
    "\n",
    "### **Import the SDK via NUGET**"
   ]
  },
  {
   "cell_type": "code",
   "execution_count": null,
   "metadata": {
    "dotnet_interactive": {
     "language": "csharp"
    },
    "polyglot_notebook": {
     "kernelName": "csharp"
    }
   },
   "outputs": [],
   "source": [
    "#r \"nuget: Microsoft.SemanticKernel, 0.17.230704.3-preview\"\n",
    "//#r \"nuget: Microsoft.SemanticKernel.Skills.OpenAPI, 0.17.230704.3-preview\"\n",
    "\n",
    "//#r \"nuget: Microsoft.SemanticKernel, 0.17.230626.1-preview\"\n",
    "\n",
    "\n"
   ]
  },
  {
   "cell_type": "markdown",
   "metadata": {},
   "source": [
    "---\n",
    "### **Load configuration from secrets.json**"
   ]
  },
  {
   "cell_type": "code",
   "execution_count": null,
   "metadata": {
    "dotnet_interactive": {
     "language": "csharp"
    },
    "polyglot_notebook": {
     "kernelName": "csharp"
    }
   },
   "outputs": [],
   "source": [
    "#!import ../Settings/AppConfig.cs\n",
    "\n",
    "//#!import /Settings/AppConfig.cs\n",
    "\n",
    "AppConfig.aoaiSettings apiConfig = AppConfig.GetSecrets();\n",
    "\n",
    "// Get AOAI values\n",
    "//string mydeploymentName = apiConfig.SKdeploymentName; // davinci\n",
    "string mydeploymentName = apiConfig.deploymentName; // turbo\n",
    "string myendpoint = apiConfig.endpoint;\n",
    "string myAPIKey = apiConfig.APIKey;\n",
    "\n",
    "//NOTE: If you run the below writeline command, be sure to clear the output before pushing to repo!!\n",
    "//Console.WriteLine(mydeploymentName + \" & \" + myendpoint + \" & \" + myAPIKey);\n"
   ]
  },
  {
   "cell_type": "markdown",
   "metadata": {},
   "source": [
    "---\n",
    "### **Build the Semantic Kernel client**"
   ]
  },
  {
   "cell_type": "code",
   "execution_count": null,
   "metadata": {
    "dotnet_interactive": {
     "language": "csharp"
    },
    "polyglot_notebook": {
     "kernelName": "csharp"
    }
   },
   "outputs": [],
   "source": [
    "using Microsoft.SemanticKernel;\n",
    "using Microsoft.SemanticKernel.Orchestration;\n",
    "using Microsoft.SemanticKernel.AI.ChatCompletion;\n",
    "using Microsoft.SemanticKernel.Connectors.AI.OpenAI.ChatCompletion;\n",
    "using Microsoft.SemanticKernel.SkillDefinition;\n",
    "//using Microsoft.SemanticKernel.Skills.OpenAPI.Extensions;\n",
    "//using Microsoft.SemanticKernel.Skills.OpenAPI.Skills;\n",
    "\n",
    "using System;\n",
    "\n",
    "\n",
    "\n",
    " IKernel kernel = new KernelBuilder()            \n",
    " //var kernel = new KernelBuilder()                      \n",
    "            // Note: we use Chat Completion and GPT 3.5 Turbo\n",
    "            .WithAzureChatCompletionService(mydeploymentName, myendpoint, myAPIKey)\n",
    "            .Build();\n",
    "\n",
    "// Load the Skills Directory\n",
    "var skillsDirectory = Path.Combine(System.IO.Directory.GetCurrentDirectory(), \"SKSkills\");\n",
    "// Load the Chat function from the FunSkill\n",
    "var skills = kernel.ImportSemanticSkillFromDirectory(skillsDirectory, \"ChatSkills\");\n",
    "\n",
    " \n",
    "//var skill3 = await kernel.ImportChatGptPluginSkillSkillFromDirectoryAsync(skillsDirectory, \"ChatSkills\");\n",
    "\n",
    "//var skill2 =  kernel.ImportChatGptPluginSkillSkillFromFile();\n",
    "\n",
    "//kernel.ImportChatGptPluginSkillFromUrlAsync\n",
    "//var skill = await kernel.ImportChatGptPluginSkillFromUrlAsync(\"<skill name>\", new Uri(\"<chatGPT-plugin>\"), new OpenApiSkillExecutionParameters(httpClient));\n",
    "\n",
    "\n",
    "AzureChatCompletion chatGPT = new(mydeploymentName, myendpoint, myAPIKey);\n",
    "\n",
    "var dSkill = skills[\"BatmanChat\"];\n",
    "Console.WriteLine(dSkill.ToString());\n",
    "//dSkill.\n",
    "\n",
    "\n",
    "\n",
    "var test = skills[\"BatmanChat\"].ToString();\n",
    "Console.WriteLine(test);\n",
    "//var chatHistory = chatGPT.CreateNewChat(skills[\"BatmanChat\"]);\n",
    "var chatHistory = chatGPT.CreateNewChat(skills[\"BatmanChat\"]);\n",
    "//var chatHistory = chatGPT.CreateNewChat(skills[\"BatmanChat\"].ToString());\n",
    "\n",
    "Console.WriteLine(chatHistory);\n",
    " // First bot assistant message\n",
    "        string reply = await chatGPT.GenerateMessageAsync(chatHistory);\n",
    "        chatHistory.AddAssistantMessage(reply);\n",
    "        Console.WriteLine(chatHistory);\n",
    "\n",
    "\n",
    "\n"
   ]
  },
  {
   "cell_type": "markdown",
   "metadata": {},
   "source": [
    "---\n",
    "### **Simple chat loop**"
   ]
  },
  {
   "cell_type": "code",
   "execution_count": null,
   "metadata": {
    "dotnet_interactive": {
     "language": "csharp"
    },
    "polyglot_notebook": {
     "kernelName": "csharp"
    }
   },
   "outputs": [],
   "source": [
    "using Microsoft.SemanticKernel.Orchestration;\n",
    "using InteractiveKernel = Microsoft.DotNet.Interactive.Kernel;\n",
    "\n",
    "// Load the Skills Directory\n",
    "var skillsDirectory = Path.Combine(System.IO.Directory.GetCurrentDirectory(), \"SKSkills\");\n",
    "\n",
    "// Load the Chat function from the FunSkill\n",
    "var skill = kernel.ImportSemanticSkillFromDirectory(skillsDirectory, \"ChatSkill\");\n",
    "\n",
    "var myContext = new ContextVariables(); \n",
    "var botPrompt = \"AI: Hello. What's your name?\";\n",
    "var history = $\"{botPrompt}\\n\";\n",
    "\n",
    "const int numberOfRounds = 4;\n",
    "\n",
    "myContext.Set(\"history\", history); \n",
    "\n",
    "for(var i = 0; i < numberOfRounds; i++) {\n",
    "    try {\n",
    "        // get input from the user and set the context variable        \n",
    "        var input = await InteractiveKernel.GetInputAsync($\"{botPrompt} ({(i+1)} of {numberOfRounds})\");\n",
    "        myContext.Set(\"input\", input); \n",
    "\n",
    "        // run the chat function\n",
    "        var myResult = await kernel.RunAsync(myContext,skill[\"Chat\"]);\n",
    "\n",
    "        // tack onto the history what's come back from the model\n",
    "        /********************************************************/\n",
    "        var theNewChatExchange = $\"Me: {input}\\nAI:{myResult}\\n\";\n",
    "        history += theNewChatExchange;\n",
    "        myContext.Set(\"history\", history); \n",
    "        /********************************************************/\n",
    "        // this way the new chat exchange gets passed into the next round\n",
    "\n",
    "        // announce the number of rounds and the history\n",
    "        Console.WriteLine($\"Chat for {i+1} of {numberOfRounds} rounds with AI:\\n{history}\");\n",
    "\n",
    "        // prepare to \"prompt\" the user with the bot's response\n",
    "        botPrompt = $\"AI: {myResult}\";\n",
    "    } catch {\n",
    "        // if the user hits \"Escape\" we end the chat early\n",
    "        Console.WriteLine(\"AI: Thanks for the wonderful chat!\");\n",
    "        break;\n",
    "    }\n",
    "}"
   ]
  },
  {
   "cell_type": "markdown",
   "metadata": {},
   "source": [
    "---\n",
    "### **Batman Sample Chat**"
   ]
  },
  {
   "cell_type": "code",
   "execution_count": null,
   "metadata": {
    "dotnet_interactive": {
     "language": "csharp"
    },
    "polyglot_notebook": {
     "kernelName": "csharp"
    }
   },
   "outputs": [],
   "source": [
    "using Microsoft.SemanticKernel.Orchestration;\n",
    "using InteractiveKernel = Microsoft.DotNet.Interactive.Kernel;\n",
    "\n",
    "// Load the Skills Directory\n",
    "var skillsDirectory = Path.Combine(System.IO.Directory.GetCurrentDirectory(), \"SKSkills\");\n",
    "\n",
    "// Load the Chat function from the \n",
    "var skill = kernel.ImportSemanticSkillFromDirectory(skillsDirectory, \"ChatSkill\");\n",
    "\n",
    "var myContext = new ContextVariables(); \n",
    "var botPrompt = \"Batman: Hello Batman Fan.  Do you have a question for me?\";\n",
    "var history = $\"{botPrompt}\\n\";\n",
    "\n",
    "const int numberOfRounds = 4;\n",
    "\n",
    "myContext.Set(\"history\", history); \n",
    "\n",
    "for(var i = 0; i < numberOfRounds; i++) {\n",
    "    try {\n",
    "        // get input from the user and set the context variable\n",
    "        Console.WriteLine(\"👆 Enter text in the input cell above to chat with the bot. 👆\\n\");\n",
    "        var input = await InteractiveKernel.GetInputAsync($\"{botPrompt} ({(i+1)} of {numberOfRounds})\");\n",
    "        myContext.Set(\"input\", input); \n",
    "\n",
    "        // run the chat function\n",
    "        var myResult = await kernel.RunAsync(myContext,skill[\"BatmanChat\"]);\n",
    "\n",
    "        // tack onto the history 👇 what's come back from the model\n",
    "        /********************************************************/\n",
    "        var theNewChatExchange = $\"Fan: {input}\\nAI:{myResult}\\n\";\n",
    "        history += theNewChatExchange;\n",
    "        myContext.Set(\"history\", history); \n",
    "        /********************************************************/\n",
    "        // this way the new chat exchange gets passed into the next round\n",
    "\n",
    "        // announce the number of rounds and the history\n",
    "        Console.WriteLine($\"Chat for {i+1} of {numberOfRounds} rounds with AI:\\n{history}\");\n",
    "\n",
    "        // prepare to \"prompt\" the user with the bot's response\n",
    "        botPrompt = $\"Batman: {myResult}\";\n",
    "    } catch {\n",
    "        // if the user hits \"Escape\" we end the chat early\n",
    "        Console.WriteLine(\"Batman: Thanks for the wonderful chat!\");\n",
    "        break;\n",
    "    }\n",
    "}"
   ]
  }
 ],
 "metadata": {
  "kernelspec": {
   "display_name": ".NET (C#)",
   "language": "C#",
   "name": ".net-csharp"
  },
  "language_info": {
   "name": "polyglot-notebook"
  },
  "polyglot_notebook": {
   "kernelInfo": {
    "defaultKernelName": "csharp",
    "items": [
     {
      "aliases": [],
      "languageName": "csharp",
      "name": "csharp"
     }
    ]
   }
  }
 },
 "nbformat": 4,
 "nbformat_minor": 2
}
