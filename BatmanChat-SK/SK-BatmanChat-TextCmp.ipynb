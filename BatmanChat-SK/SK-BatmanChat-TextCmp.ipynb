{
 "cells": [
  {
   "cell_type": "markdown",
   "metadata": {},
   "source": [
    "---\n",
    "\n",
    "### **Import the SDK via NUGET**"
   ]
  },
  {
   "cell_type": "code",
   "execution_count": 1,
   "metadata": {
    "dotnet_interactive": {
     "language": "csharp"
    },
    "polyglot_notebook": {
     "kernelName": "csharp"
    }
   },
   "outputs": [
    {
     "data": {
      "text/html": [
       "<div><div></div><div></div><div><strong>Installed Packages</strong><ul><li><span>Microsoft.SemanticKernel, 0.9.61.1-preview</span></li></ul></div></div>"
      ]
     },
     "metadata": {},
     "output_type": "display_data"
    }
   ],
   "source": [
    "#r \"nuget: Microsoft.SemanticKernel, 0.9.61.1-preview\""
   ]
  },
  {
   "cell_type": "markdown",
   "metadata": {},
   "source": [
    "---\n",
    "### **Load configuration from secrets.json**"
   ]
  },
  {
   "cell_type": "code",
   "execution_count": 3,
   "metadata": {
    "dotnet_interactive": {
     "language": "csharp"
    },
    "polyglot_notebook": {
     "kernelName": "csharp"
    }
   },
   "outputs": [],
   "source": [
    "#!import ../Settings/AppConfig.cs\n",
    "\n",
    "//#!import /Settings/AppConfig.cs\n",
    "\n",
    "AppConfig.aoaiSettings apiConfig = AppConfig.GetSecrets();\n",
    "\n",
    "// Get AOAI values\n",
    "string mydeploymentName = apiConfig.deployDavinci; // davinci\n",
    "//string mydeploymentName = apiConfig.deployTurbo; // turbo\n",
    "string myendpoint = apiConfig.endpoint;\n",
    "string myAPIKey = apiConfig.APIKey;\n",
    "\n",
    "//NOTE: If you run the below writeline command, be sure to clear the output before pushing to repo!!\n",
    "//Console.WriteLine(mydeploymentName + \" & \" + myendpoint + \" & \" + myAPIKey);\n"
   ]
  },
  {
   "cell_type": "markdown",
   "metadata": {},
   "source": [
    "---\n",
    "### **Build the Semantic Kernel client**"
   ]
  },
  {
   "cell_type": "code",
   "execution_count": 4,
   "metadata": {
    "dotnet_interactive": {
     "language": "csharp"
    },
    "polyglot_notebook": {
     "kernelName": "csharp"
    }
   },
   "outputs": [],
   "source": [
    "using Microsoft.SemanticKernel;\n",
    "using Microsoft.SemanticKernel.KernelExtensions;\n",
    "using System.IO;\n",
    "using Microsoft.SemanticKernel.Configuration;\n",
    "using Microsoft.SemanticKernel.SemanticFunctions;\n",
    "\n",
    "IKernel kernel = Microsoft.SemanticKernel.Kernel.Builder.Build();\n",
    "\n",
    "// Grab the locally stored credentials from the settings.json file. Name the \"backend\" as \"davinci\" — assuming that you're using one of the davinci completion models. \n",
    "\n",
    "\n",
    "kernel.Config.AddAzureOpenAITextCompletion(\"davinci\", mydeploymentName, myendpoint, myAPIKey);\n",
    "//kernel.Config.AddAzureOpenAITextCompletion(\"turbo\", mydeploymentName, myendpoint, myAPIKey);\n",
    "//kernel.Config.AddChatCompletion()\n"
   ]
  },
  {
   "cell_type": "markdown",
   "metadata": {},
   "source": [
    "---\n",
    "### **Simple chat loop**"
   ]
  },
  {
   "cell_type": "code",
   "execution_count": null,
   "metadata": {
    "dotnet_interactive": {
     "language": "csharp"
    },
    "polyglot_notebook": {
     "kernelName": "csharp"
    }
   },
   "outputs": [],
   "source": [
    "using Microsoft.SemanticKernel.Orchestration;\n",
    "using InteractiveKernel = Microsoft.DotNet.Interactive.Kernel;\n",
    "\n",
    "// Load the Skills Directory\n",
    "var skillsDirectory = Path.Combine(System.IO.Directory.GetCurrentDirectory(), \"SKSkills\");\n",
    "\n",
    "// Load the Chat function from the FunSkill\n",
    "var skill = kernel.ImportSemanticSkillFromDirectory(skillsDirectory, \"ChatSkill\");\n",
    "\n",
    "var myContext = new ContextVariables(); \n",
    "var botPrompt = \"AI: Hello. What's your name?\";\n",
    "var history = $\"{botPrompt}\\n\";\n",
    "\n",
    "const int numberOfRounds = 4;\n",
    "\n",
    "myContext.Set(\"history\", history); \n",
    "\n",
    "for(var i = 0; i < numberOfRounds; i++) {\n",
    "    try {\n",
    "        // get input from the user and set the context variable        \n",
    "        var input = await InteractiveKernel.GetInputAsync($\"{botPrompt} ({(i+1)} of {numberOfRounds})\");\n",
    "        myContext.Set(\"input\", input); \n",
    "\n",
    "        // run the chat function\n",
    "        var myResult = await kernel.RunAsync(myContext,skill[\"Chat\"]);\n",
    "\n",
    "        // tack onto the history what's come back from the model\n",
    "        /********************************************************/\n",
    "        var theNewChatExchange = $\"Me: {input}\\nAI:{myResult}\\n\";\n",
    "        history += theNewChatExchange;\n",
    "        myContext.Set(\"history\", history); \n",
    "        /********************************************************/\n",
    "        // this way the new chat exchange gets passed into the next round\n",
    "\n",
    "        // announce the number of rounds and the history\n",
    "        Console.WriteLine($\"Chat for {i+1} of {numberOfRounds} rounds with AI:\\n{history}\");\n",
    "\n",
    "        // prepare to \"prompt\" the user with the bot's response\n",
    "        botPrompt = $\"AI: {myResult}\";\n",
    "    } catch {\n",
    "        // if the user hits \"Escape\" we end the chat early\n",
    "        Console.WriteLine(\"AI: Thanks for the wonderful chat!\");\n",
    "        break;\n",
    "    }\n",
    "}"
   ]
  },
  {
   "cell_type": "markdown",
   "metadata": {},
   "source": [
    "---\n",
    "### **Batman Sample Chat**"
   ]
  },
  {
   "cell_type": "code",
   "execution_count": 6,
   "metadata": {
    "dotnet_interactive": {
     "language": "csharp"
    },
    "polyglot_notebook": {
     "kernelName": "csharp"
    }
   },
   "outputs": [
    {
     "name": "stdout",
     "output_type": "stream",
     "text": [
      "👆 Enter text in the input cell above to chat with the bot. 👆\n",
      "\n",
      "Chat for 1 of 4 rounds with AI:\n",
      "Batman: Hello Batman Fan.  Do you have a question for me?\n",
      "Fan: where do you work\n",
      "AI: I work in Gotham City, protecting its citizens from crime and injustice.\n",
      "\n",
      "👆 Enter text in the input cell above to chat with the bot. 👆\n",
      "\n"
     ]
    },
    {
     "ename": "Error",
     "evalue": "Input request cancelled",
     "output_type": "error",
     "traceback": [
      "Input request cancelled"
     ]
    },
    {
     "ename": "Error",
     "evalue": "Input request cancelled",
     "output_type": "error",
     "traceback": [
      "Input request cancelled"
     ]
    },
    {
     "name": "stdout",
     "output_type": "stream",
     "text": [
      "Batman: Thanks for the wonderful chat!\n"
     ]
    }
   ],
   "source": [
    "using Microsoft.SemanticKernel.Orchestration;\n",
    "using InteractiveKernel = Microsoft.DotNet.Interactive.Kernel;\n",
    "\n",
    "// Load the Skills Directory\n",
    "var skillsDirectory = Path.Combine(System.IO.Directory.GetCurrentDirectory(), \"SKSkills\");\n",
    "\n",
    "// Load the Chat function from the \n",
    "var skill = kernel.ImportSemanticSkillFromDirectory(skillsDirectory, \"ChatSkills\");\n",
    "\n",
    "var myContext = new ContextVariables(); \n",
    "var botPrompt = \"Batman: Hello Batman Fan.  Do you have a question for me?\";\n",
    "var history = $\"{botPrompt}\\n\";\n",
    "\n",
    "const int numberOfRounds = 4;\n",
    "\n",
    "myContext.Set(\"history\", history); \n",
    "\n",
    "for(var i = 0; i < numberOfRounds; i++) {\n",
    "    try {\n",
    "        // get input from the user and set the context variable\n",
    "        Console.WriteLine(\"👆 Enter text in the input cell above to chat with the bot. 👆\\n\");\n",
    "        var input = await InteractiveKernel.GetInputAsync($\"{botPrompt} ({(i+1)} of {numberOfRounds})\");\n",
    "        myContext.Set(\"input\", input); \n",
    "\n",
    "        // run the chat function\n",
    "        var myResult = await kernel.RunAsync(myContext,skill[\"BatmanChat\"]);\n",
    "\n",
    "        // tack onto the history 👇 what's come back from the model\n",
    "        /********************************************************/\n",
    "        var theNewChatExchange = $\"Fan: {input}\\nAI:{myResult}\\n\";\n",
    "        history += theNewChatExchange;\n",
    "        myContext.Set(\"history\", history); \n",
    "        /********************************************************/\n",
    "        // this way the new chat exchange gets passed into the next round\n",
    "\n",
    "        // announce the number of rounds and the history\n",
    "        Console.WriteLine($\"Chat for {i+1} of {numberOfRounds} rounds with AI:\\n{history}\");\n",
    "\n",
    "        // prepare to \"prompt\" the user with the bot's response\n",
    "        botPrompt = $\"Batman: {myResult}\";\n",
    "    } catch {\n",
    "        // if the user hits \"Escape\" we end the chat early\n",
    "        Console.WriteLine(\"Batman: Thanks for the wonderful chat!\");\n",
    "        break;\n",
    "    }\n",
    "}"
   ]
  }
 ],
 "metadata": {
  "kernelspec": {
   "display_name": ".NET (C#)",
   "language": "C#",
   "name": ".net-csharp"
  },
  "language_info": {
   "name": "polyglot-notebook"
  },
  "polyglot_notebook": {
   "kernelInfo": {
    "defaultKernelName": "csharp",
    "items": [
     {
      "aliases": [],
      "languageName": "csharp",
      "name": "csharp"
     }
    ]
   }
  }
 },
 "nbformat": 4,
 "nbformat_minor": 2
}
