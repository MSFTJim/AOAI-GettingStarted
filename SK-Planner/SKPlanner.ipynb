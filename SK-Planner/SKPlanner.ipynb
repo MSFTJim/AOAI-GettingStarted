{
 "cells": [
  {
   "cell_type": "markdown",
   "metadata": {},
   "source": [
    "---\n",
    "### **Import SK packages**"
   ]
  },
  {
   "cell_type": "code",
   "execution_count": 1,
   "metadata": {
    "dotnet_interactive": {
     "language": "csharp"
    },
    "polyglot_notebook": {
     "kernelName": "csharp"
    }
   },
   "outputs": [
    {
     "data": {
      "text/html": [
       "<div><div></div><div></div><div><strong>Installed Packages</strong><ul><li><span>Microsoft.SemanticKernel, 0.18.230725.3-preview</span></li></ul></div></div>"
      ]
     },
     "metadata": {},
     "output_type": "display_data"
    }
   ],
   "source": [
    "#r \"nuget:Microsoft.SemanticKernel, 0.18.230725.3-preview\"\n",
    "//#r \"nuget:Microsoft.SemanticKernel, 0.17.230718.1-preview\"\n",
    "\n"
   ]
  },
  {
   "cell_type": "markdown",
   "metadata": {},
   "source": [
    "---\n",
    "\n",
    "### **Load secrets into local variables**"
   ]
  },
  {
   "cell_type": "code",
   "execution_count": 2,
   "metadata": {
    "dotnet_interactive": {
     "language": "csharp"
    },
    "polyglot_notebook": {
     "kernelName": "csharp"
    }
   },
   "outputs": [],
   "source": [
    "#!import ../Settings/AppConfig.cs\n",
    "\n",
    "//#!import /Settings/AppConfig.cs\n",
    "\n",
    "AppConfig.aoaiSettings apiConfig = AppConfig.GetSecrets();\n",
    "\n",
    "// Get AOAI values\n",
    "string mydeployDavinci = apiConfig.deployDavinci;\n",
    "string mydeployTurbo = apiConfig.deployTurbo;\n",
    "string mydeployEmbed = apiConfig.deployEmbed; \n",
    "string myendpoint = apiConfig.endpoint;\n",
    "string myAPIKey = apiConfig.APIKey;\n",
    "string myQdrantEndpoint = apiConfig.QdrantEndpoint;\n",
    "\n",
    "//NOTE: If you run the below writeline command, be sure to clear the output before pushing to repo!!\n",
    "//Console.WriteLine(mydeployDavinci + \" & \" + mydeployEmbed + \" & \" + myQdrantEndpoint + \" & \" + myendpoint + \" & \" + myAPIKey);"
   ]
  },
  {
   "cell_type": "markdown",
   "metadata": {},
   "source": [
    "---\n",
    "\n",
    "### **Create the Semantic Kernel**"
   ]
  },
  {
   "cell_type": "code",
   "execution_count": 3,
   "metadata": {
    "dotnet_interactive": {
     "language": "csharp"
    },
    "polyglot_notebook": {
     "kernelName": "csharp"
    }
   },
   "outputs": [],
   "source": [
    "#!import ./Plugins/MathPlugin/MathPlugin.cs\n",
    "\n",
    "using System.Text.Json;\n",
    "using Microsoft.Extensions.Logging;\n",
    "using Microsoft.SemanticKernel;\n",
    "using Microsoft.SemanticKernel.Planning;\n",
    "//using Plugins;\n",
    "\n",
    "IKernel kernel = new KernelBuilder()\n",
    "    //.WithAzureTextCompletionService(deploymentName: mydeployDavinci!, endpoint: myendpoint!, apiKey: myAPIKey!)    \n",
    "    .WithAzureChatCompletionService(deploymentName: mydeployTurbo!, endpoint: myendpoint!, apiKey: myAPIKey!)    \n",
    "    //.WithLogger(logger)\n",
    "    .Build();"
   ]
  },
  {
   "cell_type": "markdown",
   "metadata": {},
   "source": [
    "---\n",
    "\n",
    "### **Import the Skill/Plug-in & Create a Planner object**"
   ]
  },
  {
   "cell_type": "code",
   "execution_count": 4,
   "metadata": {
    "dotnet_interactive": {
     "language": "csharp"
    },
    "polyglot_notebook": {
     "kernelName": "csharp"
    }
   },
   "outputs": [],
   "source": [
    "//AppConfig.aoaiSettings apiConfig = AppConfig.GetSecrets();\n",
    "\n",
    "// Add the math plugin\n",
    "var mathPlugin = kernel.ImportSkill(new MathPlugin(), \"MathPlugin\");\n",
    "\n",
    "// Create a planner\n",
    "var planner = new SequentialPlanner(kernel);"
   ]
  },
  {
   "cell_type": "markdown",
   "metadata": {},
   "source": [
    "---\n",
    "\n",
    "### **Generate the Sequential Plan**"
   ]
  },
  {
   "cell_type": "code",
   "execution_count": 5,
   "metadata": {
    "dotnet_interactive": {
     "language": "csharp"
    },
    "polyglot_notebook": {
     "kernelName": "csharp"
    }
   },
   "outputs": [
    {
     "name": "stdout",
     "output_type": "stream",
     "text": [
      "Plan:\n",
      "\n",
      "{\n",
      "  \"state\": [\n",
      "    {\n",
      "      \"Key\": \"INPUT\",\n",
      "      \"Value\": \"\"\n",
      "    }\n",
      "  ],\n",
      "  \"steps\": [\n",
      "    {\n",
      "      \"state\": [\n",
      "        {\n",
      "          \"Key\": \"INPUT\",\n",
      "          \"Value\": \"\"\n",
      "        }\n",
      "      ],\n",
      "      \"steps\": [],\n",
      "      \"parameters\": [\n",
      "        {\n",
      "          \"Key\": \"number2\",\n",
      "          \"Value\": \"1.23\"\n",
      "        },\n",
      "        {\n",
      "          \"Key\": \"INPUT\",\n",
      "          \"Value\": \"2130.23\"\n",
      "        }\n",
      "      ],\n",
      "      \"outputs\": [\n",
      "        \"INVESTMENT_AFTER_INCREASE\"\n",
      "      ],\n",
      "      \"next_step_index\": 0,\n",
      "      \"name\": \"Multiply\",\n",
      "      \"skill_name\": \"MathPlugin\",\n",
      "      \"description\": \"Multiply two numbers. When increasing by a percentage, don\\u0027t forget to add 1 to the percentage.\"\n",
      "    },\n",
      "    {\n",
      "      \"state\": [\n",
      "        {\n",
      "          \"Key\": \"INPUT\",\n",
      "          \"Value\": \"\"\n",
      "        }\n",
      "      ],\n",
      "      \"steps\": [],\n",
      "      \"parameters\": [\n",
      "        {\n",
      "          \"Key\": \"number2\",\n",
      "          \"Value\": \"5\"\n",
      "        },\n",
      "        {\n",
      "          \"Key\": \"INPUT\",\n",
      "          \"Value\": \"$INVESTMENT_AFTER_INCREASE\"\n",
      "        }\n",
      "      ],\n",
      "      \"outputs\": [\n",
      "        \"RESULT__FINAL_ANSWER\"\n",
      "      ],\n",
      "      \"next_step_index\": 0,\n",
      "      \"name\": \"SubtractNumbers\",\n",
      "      \"skill_name\": \"MathPlugin\",\n",
      "      \"description\": \"Subtract two numbers\"\n",
      "    }\n",
      "  ],\n",
      "  \"parameters\": [\n",
      "    {\n",
      "      \"Key\": \"INPUT\",\n",
      "      \"Value\": \"\"\n",
      "    }\n",
      "  ],\n",
      "  \"outputs\": [\n",
      "    \"RESULT__FINAL_ANSWER\"\n",
      "  ],\n",
      "  \"next_step_index\": 0,\n",
      "  \"name\": \"\",\n",
      "  \"skill_name\": \"Microsoft.SemanticKernel.Planning.Plan\",\n",
      "  \"description\": \"If my investment of 2130.23 dollars increased by 23%, how much would I have after I spent $5 on a latte?\"\n",
      "}\n"
     ]
    }
   ],
   "source": [
    "// Create a planner\n",
    "var planner = new SequentialPlanner(kernel);\n",
    "\n",
    "//var ask = \"I have $2130.23. How much would I have after it grew by 24% and after I spent $5 on a latte?\";\n",
    "var ask = \"If my investment of 2130.23 dollars increased by 23%, how much would I have after I spent $5 on a latte?\";\n",
    "//var ask = \"If I have 1000.00 dollars and spend 500.00 dollars, how much is left?\";\n",
    "var plan = await planner.CreatePlanAsync(ask);\n",
    "\n",
    "Console.WriteLine(\"Plan:\\n\");\n",
    "Console.WriteLine(JsonSerializer.Serialize(plan, new JsonSerializerOptions { WriteIndented = true }));"
   ]
  },
  {
   "cell_type": "markdown",
   "metadata": {},
   "source": [
    "---\n",
    "\n",
    "### **Execute the Sequential Plan**\n"
   ]
  },
  {
   "cell_type": "code",
   "execution_count": 6,
   "metadata": {
    "dotnet_interactive": {
     "language": "csharp"
    },
    "polyglot_notebook": {
     "kernelName": "csharp"
    }
   },
   "outputs": [
    {
     "name": "stdout",
     "output_type": "stream",
     "text": [
      "Plan results:\n",
      "2615.1829\n"
     ]
    }
   ],
   "source": [
    "var result = await plan.InvokeAsync();\n",
    "\n",
    "Console.WriteLine(\"Plan results:\");\n",
    "Console.WriteLine(result.Result.Trim());"
   ]
  }
 ],
 "metadata": {
  "kernelspec": {
   "display_name": ".NET (C#)",
   "language": "C#",
   "name": ".net-csharp"
  },
  "language_info": {
   "name": "polyglot-notebook"
  },
  "polyglot_notebook": {
   "kernelInfo": {
    "defaultKernelName": "csharp",
    "items": [
     {
      "aliases": [],
      "languageName": "csharp",
      "name": "csharp"
     }
    ]
   }
  }
 },
 "nbformat": 4,
 "nbformat_minor": 2
}
