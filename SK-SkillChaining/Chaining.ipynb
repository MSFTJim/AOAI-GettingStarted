{
 "cells": [
  {
   "cell_type": "markdown",
   "metadata": {},
   "source": [
    "---\n",
    "\n",
    "### **Import SK packages**"
   ]
  },
  {
   "cell_type": "code",
   "execution_count": 1,
   "metadata": {
    "dotnet_interactive": {
     "language": "csharp"
    },
    "polyglot_notebook": {
     "kernelName": "csharp"
    }
   },
   "outputs": [
    {
     "data": {
      "text/html": [
       "<div><div></div><div></div><div><strong>Installed Packages</strong><ul><li><span>Microsoft.SemanticKernel, 0.16.230615.1-preview</span></li></ul></div></div>"
      ]
     },
     "metadata": {},
     "output_type": "display_data"
    }
   ],
   "source": [
    "#r \"nuget:Microsoft.SemanticKernel, 0.16.230615.1-preview\"\n",
    "//#r \"nuget:Microsoft.SemanticKernel, 0.17.230718.1-preview\"\n",
    "\n"
   ]
  },
  {
   "cell_type": "markdown",
   "metadata": {},
   "source": [
    "---\n",
    "\n",
    "### **Load secrets into local variables**"
   ]
  },
  {
   "cell_type": "code",
   "execution_count": 2,
   "metadata": {
    "dotnet_interactive": {
     "language": "csharp"
    },
    "polyglot_notebook": {
     "kernelName": "csharp"
    }
   },
   "outputs": [],
   "source": [
    "#!import ../Settings/AppConfig.cs\n",
    "\n",
    "//#!import /Settings/AppConfig.cs\n",
    "\n",
    "AppConfig.aoaiSettings apiConfig = AppConfig.GetSecrets();\n",
    "\n",
    "// Get AOAI values\n",
    "string mydeployDavinci = apiConfig.deployDavinci;\n",
    "string mydeployEmbed = apiConfig.deployEmbed; \n",
    "string myendpoint = apiConfig.endpoint;\n",
    "string myAPIKey = apiConfig.APIKey;\n",
    "string myQdrantEndpoint = apiConfig.QdrantEndpoint;\n",
    "\n",
    "//NOTE: If you run the below writeline command, be sure to clear the output before pushing to repo!!\n",
    "//Console.WriteLine(mydeployDavinci + \" & \" + mydeployEmbed + \" & \" + myQdrantEndpoint + \" & \" + myendpoint + \" & \" + myAPIKey);"
   ]
  },
  {
   "cell_type": "markdown",
   "metadata": {},
   "source": [
    "---\n",
    "### **Build the Semantic Kernel client**"
   ]
  },
  {
   "cell_type": "code",
   "execution_count": 3,
   "metadata": {
    "dotnet_interactive": {
     "language": "csharp"
    },
    "polyglot_notebook": {
     "kernelName": "csharp"
    }
   },
   "outputs": [],
   "source": [
    "using Microsoft.SemanticKernel;\n",
    "//using Microsoft.SemanticKernel.KernelExtensions;\n",
    "using System.IO;\n",
    "//using Microsoft.SemanticKernel.Configuration;\n",
    "using Microsoft.SemanticKernel.SemanticFunctions;\n",
    "\n",
    "IKernel kernel = Microsoft.SemanticKernel.Kernel.Builder.Build();\n",
    "\n",
    "kernel.Config.AddAzureTextCompletionService(mydeployDavinci, myendpoint, myAPIKey);"
   ]
  },
  {
   "cell_type": "markdown",
   "metadata": {},
   "source": [
    "---\n",
    "### **Load Skills and setup test input**"
   ]
  },
  {
   "cell_type": "code",
   "execution_count": 4,
   "metadata": {
    "dotnet_interactive": {
     "language": "csharp"
    },
    "polyglot_notebook": {
     "kernelName": "csharp"
    }
   },
   "outputs": [
    {
     "name": "stdout",
     "output_type": "stream",
     "text": [
      "\n",
      "Customer 1: The power button on my phone is broken. The warranty is still valid.\n",
      "Customer 2: My display stopped working.\n",
      "Customer 3: The customer service rep didn't answer my email.\n",
      "Customer 4: Every time I call customer support I get no answer.\n",
      "Customer 5: The display screen cracked and it's still under warranty.\n",
      "Customer 6: My power button fell off the phone. That's ridiculous.\n",
      "Customer 7: I'm so frustrated with this company.\n",
      "Customer 8: When I use the power button too much, it stops working.\n",
      "\n"
     ]
    }
   ],
   "source": [
    "using System.Text.Json;\n",
    "using System.Text.Json.Serialization;\n",
    "\n",
    "// Load the Skills Directory\n",
    "var skillsDirectory = Path.Combine(System.IO.Directory.GetCurrentDirectory(), \"skills\");\n",
    "\n",
    "// Load the EmpathizeSkill from the Skills Directory\n",
    "var skillDT = kernel.ImportSemanticSkillFromDirectory(skillsDirectory, \"DesignThinkingSkill\");\n",
    "\n",
    "// The default input variable \n",
    "var input = @\"\n",
    "Customer 1: The power button on my phone is broken. The warranty is still valid.\n",
    "Customer 2: My display stopped working.\n",
    "Customer 3: The customer service rep didn't answer my email.\n",
    "Customer 4: Every time I call customer support I get no answer.\n",
    "Customer 5: The display screen cracked and it's still under warranty.\n",
    "Customer 6: My power button fell off the phone. That's ridiculous.\n",
    "Customer 7: I'm so frustrated with this company.\n",
    "Customer 8: When I use the power button too much, it stops working.\n",
    "\";\n",
    "\n",
    "Console.WriteLine(input);"
   ]
  },
  {
   "cell_type": "markdown",
   "metadata": {},
   "source": [
    "---\n",
    "### **Example using Stanford University's \"Design Thinking\"**\n",
    "#### Empathize, Define, Ideate, Prototype, Test.\n",
    "<img src=\"designthinking.png\" width=\"50%\" height=\"50%\">\n",
    "\n",
    "#### Let's run the \"Empathize\" step to understand our customers' painpoints.\n",
    "\n"
   ]
  },
  {
   "cell_type": "code",
   "execution_count": 5,
   "metadata": {
    "dotnet_interactive": {
     "language": "csharp"
    },
    "polyglot_notebook": {
     "kernelName": "csharp"
    }
   },
   "outputs": [
    {
     "name": "stdout",
     "output_type": "stream",
     "text": [
      "\n",
      "\n",
      "[\n",
      "    { \"sentiment\": \"Frustrated\", \"summary\": \"Poor customer service\"},\n",
      "    { \"sentiment\": \"Angry\", \"summary\": \"Products not working as expected\"},\n",
      "    { \"sentiment\": \"Dissatisfied\", \"summary\": \"Products not working despite being under warranty\"}\n",
      "]\n"
     ]
    }
   ],
   "source": [
    "var empathyResult = await kernel.RunAsync(input, skillDT[\"Empathize\"]);\n",
    "\n",
    "Console.WriteLine(empathyResult);"
   ]
  },
  {
   "cell_type": "markdown",
   "metadata": {},
   "source": [
    "---\n",
    "#### Turn the empathy insights into problem definitions with the \"Define\" step"
   ]
  },
  {
   "cell_type": "code",
   "execution_count": 6,
   "metadata": {
    "dotnet_interactive": {
     "language": "csharp"
    },
    "polyglot_notebook": {
     "kernelName": "csharp"
    }
   },
   "outputs": [
    {
     "name": "stdout",
     "output_type": "stream",
     "text": [
      "\n",
      "\n",
      "[\n",
      "    { \"title\": \"Poor customer service\", \"problem\": \"Customers are not receiving satisfactory customer service from the company\", \"source\":\"Lack of training or resources for customer service staff\"},\n",
      "    { \"title\": \"Product malfunction\", \"problem\": \"Products are not working as expected and are causing frustration for customers\", \"source\":\"Poor quality control during manufacturing\"},\n",
      "    { \"title\": \"Product not under warranty\", \"problem\": \"Products are not covered by the company's warranty, leading to customers having to pay for repairs\", \"source\":\"Inadequate product warranties\"},\n",
      "    { \"title\": \"Inadequate product support\", \"problem\": \"Customers are not receiving adequate product support from the company\", \"source\":\"Lack of resources or staff for product support\"},\n",
      "    { \"title\": \"Inadequate communication\", \"problem\": \"Customers are not receiving timely or accurate communication from the company\", \"source\":\"Lack of resources or staff for customer communication\"}\n",
      "]\n"
     ]
    }
   ],
   "source": [
    "// Load the Skills Directory\n",
    "var skillsDirectory = Path.Combine(System.IO.Directory.GetCurrentDirectory(), \"skills\");\n",
    "\n",
    "// Load the EmpathizeSkill from the Skills Directory\n",
    "var skillDT = kernel.ImportSemanticSkillFromDirectory(skillsDirectory, \"DesignThinkingSkill\");\n",
    "\n",
    "var defineResult = await kernel.RunAsync(empathyResult.ToString(), skillDT[\"Define\"]);\n",
    "\n",
    "Console.WriteLine(defineResult);"
   ]
  },
  {
   "cell_type": "markdown",
   "metadata": {},
   "source": [
    "---\n",
    "#### Brainstorm ideas to address the problems using the \"Ideate\" step"
   ]
  },
  {
   "cell_type": "code",
   "execution_count": 7,
   "metadata": {
    "dotnet_interactive": {
     "language": "csharp"
    },
    "polyglot_notebook": {
     "kernelName": "csharp"
    }
   },
   "outputs": [
    {
     "name": "stdout",
     "output_type": "stream",
     "text": [
      "\n",
      "\n",
      "| Lower-hanging fruit | Higher-hanging fruit |\n",
      "| :--- | :--- |\n",
      "| 1. Increase customer service training for staff | 1. Develop an AI-based customer service chatbot |\n",
      "| 2. Introduce a customer satisfaction survey | 2. Develop a mobile app for customers to access product support |\n",
      "| 3. Implement a customer loyalty program | 3. Implement a product recall system |\n",
      "| 4. Introduce a customer feedback system | 4. Introduce a warranty registration system |\n",
      "| 5. Introduce a customer rewards program | 5. Introduce a customer service feedback system |\n",
      "| 6. Introduce a customer complaint system | 6. Introduce a customer service escalation system |\n",
      "| 7. Increase quality control during manufacturing | 7. Introduce a customer service knowledge base |\n",
      "| 8. Increase product warranties | 8. Introduce a customer service ticketing system |\n",
      "| 9. Increase resources for product support | 9. Introduce a customer service chatbot |\n",
      "| 10. Increase resources for customer communication | 10. Introduce a customer service feedback survey |\n"
     ]
    }
   ],
   "source": [
    "// Load the Skills Directory\n",
    "var skillsDirectory = Path.Combine(System.IO.Directory.GetCurrentDirectory(), \"skills\");\n",
    "\n",
    "// Load the EmpathizeSkill from the Skills Directory\n",
    "var skillDT = kernel.ImportSemanticSkillFromDirectory(skillsDirectory, \"DesignThinkingSkill\");\n",
    "\n",
    "var ideateResult = await kernel.RunAsync(defineResult.ToString(), skillDT[\"Ideate\"]);\n",
    "\n",
    "Console.WriteLine(ideateResult);\n",
    "//display(ideateResult.ToString());"
   ]
  },
  {
   "cell_type": "markdown",
   "metadata": {},
   "source": [
    "---\n",
    "### Do all the steps in a Chaining Example"
   ]
  },
  {
   "cell_type": "code",
   "execution_count": 9,
   "metadata": {
    "dotnet_interactive": {
     "language": "csharp"
    },
    "polyglot_notebook": {
     "kernelName": "csharp"
    }
   },
   "outputs": [
    {
     "data": {
      "text/html": [
       "<div><div></div><div></div><div><strong>Installed Packages</strong><ul><li><span>Markdig.Signed, 0.31.0</span></li></ul></div></div>"
      ]
     },
     "metadata": {},
     "output_type": "display_data"
    },
    {
     "data": {
      "text/html": [
       "<h3 id=\"ideate-design-thinking-directions-generated-from-customer-empathy-empathize-and-problem-definition-define\">Ideate: 'Design Thinking' directions generated from customer empathy (Empathize) and problem definition (Define)</h3>\n",
       "<table>\n",
       "<thead>\n",
       "<tr>\n",
       "<th style=\"text-align: left;\">Lower-hanging fruit</th>\n",
       "<th style=\"text-align: left;\">Higher-hanging fruit</th>\n",
       "</tr>\n",
       "</thead>\n",
       "<tbody>\n",
       "<tr>\n",
       "<td style=\"text-align: left;\">Implement automated customer service chatbot</td>\n",
       "<td style=\"text-align: left;\">Develop a customer loyalty program</td>\n",
       "</tr>\n",
       "<tr>\n",
       "<td style=\"text-align: left;\">Create an online knowledge base for customers</td>\n",
       "<td style=\"text-align: left;\">Invest in better quality control during manufacturing</td>\n",
       "</tr>\n",
       "<tr>\n",
       "<td style=\"text-align: left;\">Improve customer service training</td>\n",
       "<td style=\"text-align: left;\">Improve product design to increase durability</td>\n",
       "</tr>\n",
       "<tr>\n",
       "<td style=\"text-align: left;\">Introduce a customer feedback system</td>\n",
       "<td style=\"text-align: left;\">Expand technical support staff</td>\n",
       "</tr>\n",
       "<tr>\n",
       "<td style=\"text-align: left;\">Offer customer service via social media</td>\n",
       "<td style=\"text-align: left;\">Increase product testing to ensure reliability</td>\n",
       "</tr>\n",
       "<tr>\n",
       "<td style=\"text-align: left;\">Increase customer service staff</td>\n",
       "<td style=\"text-align: left;\">Develop a customer rewards program</td>\n",
       "</tr>\n",
       "<tr>\n",
       "<td style=\"text-align: left;\">Offer discounts or incentives for customer loyalty</td>\n",
       "<td style=\"text-align: left;\">Create an online product tutorial library</td>\n",
       "</tr>\n",
       "<tr>\n",
       "<td style=\"text-align: left;\">Create an online customer service portal</td>\n",
       "<td style=\"text-align: left;\">Develop an online customer service forum</td>\n",
       "</tr>\n",
       "<tr>\n",
       "<td style=\"text-align: left;\">Introduce a customer satisfaction survey</td>\n",
       "<td style=\"text-align: left;\">Invest in customer service analytics software</td>\n",
       "</tr>\n",
       "</tbody>\n",
       "</table>\n"
      ]
     },
     "metadata": {},
     "output_type": "display_data"
    }
   ],
   "source": [
    "#r \"nuget: Markdig.Signed, 0.31.0\"\n",
    "using Microsoft.AspNetCore.Html;\n",
    "using Markdig;\n",
    "using System.Text.Json;\n",
    "using System.Text.Json.Serialization;\n",
    "\n",
    "//Load the Skills Directory\n",
    "var skillsDirectory = Path.Combine(System.IO.Directory.GetCurrentDirectory(), \"skills\");\n",
    "\n",
    "// Load the EmpathizeSkill from the Skills Directory\n",
    "var skillDT = kernel.ImportSemanticSkillFromDirectory(skillsDirectory, \"DesignThinkingSkill\");\n",
    "\n",
    "var input = @\"\n",
    "Customer 1: The power button on my phone is broken. The warranty is still valid.\n",
    "Customer 2: My display stopped working.\n",
    "Customer 3: The customer service rep didn't answer my email.\n",
    "Customer 4: Every time I call customer support I get no answer.\n",
    "Customer 5: The display screen cracked and it's still under warranty.\n",
    "Customer 6: My power button fell off the phone. That's ridiculous.\n",
    "Customer 7: I'm so frustrated with this company.\n",
    "Customer 8: When I use the power button too much, it stops working.\n",
    "\";\n",
    "\n",
    "\n",
    "var myResult = await kernel.RunAsync(input, skillDT[\"Empathize\"], skillDT[\"Define\"], skillDT[\"Ideate\"]);\n",
    "\n",
    "var myPipeline = new MarkdownPipelineBuilder().UseAdvancedExtensions().Build();\n",
    "var myResult2HTML = Markdown.ToHtml(\"### Ideate: 'Design Thinking' directions generated from customer empathy (Empathize) and problem definition (Define)\\n\\n\" + myResult.ToString(), myPipeline);\n",
    "var myHTMLContent = new HtmlContentBuilder();\n",
    "\n",
    "myHTMLContent.AppendHtml(myResult2HTML);\n",
    "myHTMLContent"
   ]
  }
 ],
 "metadata": {
  "kernelspec": {
   "display_name": ".NET (C#)",
   "language": "C#",
   "name": ".net-csharp"
  },
  "language_info": {
   "name": "polyglot-notebook"
  },
  "polyglot_notebook": {
   "kernelInfo": {
    "defaultKernelName": "csharp",
    "items": [
     {
      "aliases": [],
      "languageName": "csharp",
      "name": "csharp"
     }
    ]
   }
  }
 },
 "nbformat": 4,
 "nbformat_minor": 2
}
