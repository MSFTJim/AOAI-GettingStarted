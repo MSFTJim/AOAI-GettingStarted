{
 "cells": [
  {
   "cell_type": "markdown",
   "metadata": {},
   "source": [
    "---\n",
    "\n",
    "### **Import SK packages**"
   ]
  },
  {
   "cell_type": "code",
   "execution_count": null,
   "metadata": {
    "dotnet_interactive": {
     "language": "csharp"
    },
    "polyglot_notebook": {
     "kernelName": "csharp"
    }
   },
   "outputs": [],
   "source": [
    "#r \"nuget:Microsoft.SemanticKernel, 0.16.230615.1-preview\"\n",
    "#r \"nuget:Microsoft.SemanticKernel.Connectors.Memory.Qdrant, 0.16.230615.1-preview\""
   ]
  },
  {
   "cell_type": "markdown",
   "metadata": {},
   "source": [
    "---\n",
    "\n",
    "### **Load secrets into local variables**"
   ]
  },
  {
   "cell_type": "code",
   "execution_count": null,
   "metadata": {
    "dotnet_interactive": {
     "language": "csharp"
    },
    "polyglot_notebook": {
     "kernelName": "csharp"
    }
   },
   "outputs": [],
   "source": [
    "#!import ../Settings/AppConfig.cs\n",
    "\n",
    "//#!import /Settings/AppConfig.cs\n",
    "\n",
    "AppConfig.aoaiSettings apiConfig = AppConfig.GetSecrets();\n",
    "\n",
    "// Get AOAI values\n",
    "string mydeployDavinci = apiConfig.deployDavinci;\n",
    "string mydeployEmbed = apiConfig.deployEmbed; \n",
    "string myendpoint = apiConfig.endpoint;\n",
    "string myAPIKey = apiConfig.APIKey;\n",
    "string myQdrantEndpoint = apiConfig.QdrantEndpoint;\n",
    "\n",
    "//NOTE: If you run the below writeline command, be sure to clear the output before pushing to repo!!\n",
    "//Console.WriteLine(mydeployDavinci + \" & \" + mydeployEmbed + \" & \" + myQdrantEndpoint + \" & \" + myendpoint + \" & \" + myAPIKey);"
   ]
  },
  {
   "cell_type": "markdown",
   "metadata": {},
   "source": [
    "---\n",
    "### **Build the Semantic Kernel client**"
   ]
  },
  {
   "cell_type": "code",
   "execution_count": null,
   "metadata": {
    "dotnet_interactive": {
     "language": "csharp"
    },
    "polyglot_notebook": {
     "kernelName": "csharp"
    }
   },
   "outputs": [],
   "source": [
    "using Microsoft.SemanticKernel;\n",
    "//using Microsoft.SemanticKernel.KernelExtensions;\n",
    "//using System.IO;\n",
    "//using Microsoft.SemanticKernel.Configuration;\n",
    "//using Microsoft.SemanticKernel.SemanticFunctions;\n",
    "//using Microsoft.SemanticKernel.Memory;\n",
    "using Microsoft.SemanticKernel.Connectors.Memory.Qdrant;\n",
    "\n",
    "int qdrantVectorSize = 1536;\n",
    "QdrantMemoryStore memoryStore = new(myQdrantEndpoint!, qdrantVectorSize);\n",
    "\n",
    "IKernel kernel = Microsoft.SemanticKernel.Kernel.Builder\n",
    "            // .WithLogger(ConsoleLogger.Log)\n",
    "            .WithAzureTextCompletionService(mydeployDavinci!, myendpoint!, myAPIKey!)\n",
    "            .WithAzureTextEmbeddingGenerationService(mydeployEmbed!, myendpoint!, myAPIKey!)\n",
    "            .WithMemoryStorage(memoryStore)\n",
    "            //.WithMemoryStorage(new VolatileMemoryStore())\n",
    "            //.WithQdrantMemoryStore(Env.Var(\"QDRANT_ENDPOINT\"), 1536) // This method offers an alternative approach to registering Qdrant memory store.\n",
    "            .Build();"
   ]
  },
  {
   "cell_type": "markdown",
   "metadata": {},
   "source": [
    "---\n",
    "### **Create Collection and print out**"
   ]
  },
  {
   "cell_type": "code",
   "execution_count": null,
   "metadata": {
    "dotnet_interactive": {
     "language": "csharp"
    },
    "polyglot_notebook": {
     "kernelName": "csharp"
    }
   },
   "outputs": [],
   "source": [
    "const string memoryCollectionName = \"Facts About Me\";\n",
    "\n",
    "var myBio = await kernel.Memory.SaveInformationAsync(memoryCollectionName, id: \"LinkedIn Bio\",\n",
    "    text: \"I currently work in the hotel industry at the front desk. I won the best team player award.\");\n",
    "\n",
    "var myHistory = await kernel.Memory.SaveInformationAsync(memoryCollectionName, id: \"LinkedIn History\",\n",
    "    text: \"I have worked as a tourist operator for 8 years. I have also worked as a banking associate for 3 years.\");\n",
    "\n",
    "var myRecentFB = await kernel.Memory.SaveInformationAsync(memoryCollectionName, id: \"Recent Facebook Post\",\n",
    "    text: \"My new dog Trixie is the cutest thing you've ever seen. She's just 2 years old.\");\n",
    "\n",
    "var myOldFB = await kernel.Memory.SaveInformationAsync(memoryCollectionName, id: \"Old Facebook Post\",\n",
    "    text: \"Can you believe the size of the trees in Yellowstone? They're huge! I'm so committed to forestry concerns.\");\n",
    "\n",
    "Console.WriteLine(\"Four GIGANTIC vectors were generated just now from those 4 pieces of text above.\");\n",
    "\n",
    "// check if collection was created\n",
    "\n",
    "bool CollectionDoesExist = false;\n",
    "CollectionDoesExist = await memoryStore.DoesCollectionExistAsync(\"Facts About Me\").ConfigureAwait((false));\n",
    "Console.WriteLine(\"Does the collection we just created exist? \" + (CollectionDoesExist ? \"Yes\" :\"No\"));\n",
    "\n"
   ]
  },
  {
   "cell_type": "markdown",
   "metadata": {},
   "source": [
    "---\n",
    "### **Retrieve Memories from Collection by keys**"
   ]
  },
  {
   "cell_type": "code",
   "execution_count": null,
   "metadata": {
    "dotnet_interactive": {
     "language": "csharp"
    },
    "polyglot_notebook": {
     "kernelName": "csharp"
    }
   },
   "outputs": [],
   "source": [
    "Console.WriteLine(\"== Retrieving Memories Through the Kernel ==\");\n",
    "//MemoryQueryResult? lookup = await kernel.Memory.GetAsync(memoryCollectionName, \"LinkedIn Bio\");\n",
    "var vdbResult1 = await kernel.Memory.GetAsync(memoryCollectionName, \"LinkedIn Bio\");\n",
    "Console.WriteLine(vdbResult1 != null ? vdbResult1.Metadata.Text : \"ERROR: memory not found\");\n",
    "\n",
    "Console.WriteLine(\"== Retrieving Memories Directly From the Store ==\");\n",
    "var vdbResult2 = await memoryStore.GetWithPointIdAsync(memoryCollectionName, myOldFB);\n",
    "Console.WriteLine(vdbResult2 != null ? vdbResult2.Metadata.Text : \"ERROR: memory not found\");"
   ]
  },
  {
   "cell_type": "markdown",
   "metadata": {},
   "source": [
    "---\n",
    "### **Retrieve Memories from Collection by filter (aka where clause)**"
   ]
  },
  {
   "cell_type": "code",
   "execution_count": null,
   "metadata": {
    "dotnet_interactive": {
     "language": "csharp"
    },
    "polyglot_notebook": {
     "kernelName": "csharp"
    }
   },
   "outputs": [],
   "source": [
    "Console.WriteLine(\"== Similarity Searching Memories: My favorite work is ==\");\n",
    "//var searchResults = kernel.Memory.SearchAsync(memoryCollectionName, \"My work information\", limit: 3, minRelevanceScore: 0.8, withEmbeddings: true);\n",
    "var searchResults = kernel.Memory.SearchAsync(memoryCollectionName, \"My work information\", limit: 3, minRelevanceScore: 0.8);\n",
    "\n",
    "var relatedMemory = \"I know nothing.\";\n",
    "var counter = 0;\n",
    "\n",
    "await foreach (var item in searchResults)\n",
    "{\n",
    "    if (counter == 0) { relatedMemory = item.Metadata.Text; }\n",
    "    Console.WriteLine(item.Metadata.Text + \" : \" + item.Relevance);  \n",
    "         \n",
    "}"
   ]
  },
  {
   "cell_type": "markdown",
   "metadata": {},
   "source": [
    "---\n",
    "### **Use Vector DB results in a Semantic Function (aka Skill or Plugin)**"
   ]
  },
  {
   "cell_type": "code",
   "execution_count": null,
   "metadata": {
    "dotnet_interactive": {
     "language": "csharp"
    },
    "polyglot_notebook": {
     "kernelName": "csharp"
    }
   },
   "outputs": [],
   "source": [
    "var myFunction = kernel.CreateSemanticFunction(@\"\n",
    "{{$input}}\n",
    "Tell me about me and my work history in less than 70 characters.\n",
    "\", maxTokens: 100, temperature: 0.1, topP: .1);\n",
    "\n",
    "var result = await myFunction.InvokeAsync(relatedMemory);\n",
    "\n",
    "Console.WriteLine(\"Response from AI: \" +result);"
   ]
  },
  {
   "cell_type": "markdown",
   "metadata": {},
   "source": [
    "---\n",
    "### **Create a Collection and then delete it**"
   ]
  },
  {
   "cell_type": "code",
   "execution_count": null,
   "metadata": {
    "dotnet_interactive": {
     "language": "csharp"
    },
    "polyglot_notebook": {
     "kernelName": "csharp"
    }
   },
   "outputs": [],
   "source": [
    "//Add test collection and delete it\n",
    "const string memoryCollectionDelete = \"Memory to Delete\";\n",
    "\n",
    "var delMoon = await kernel.Memory.SaveInformationAsync(memoryCollectionDelete, id: \"Moon distance\",\n",
    "    text: \"The distance from the Earth to the moon is approximately 238,855 miles (384,400 kilometers)\");\n",
    "var delParis = await kernel.Memory.SaveInformationAsync(memoryCollectionDelete, id: \"Paris NYC distance\",\n",
    "    text: \"The distance between Paris and New York City is approximately 3,631 miles\");\n",
    "\n",
    "\n",
    "Console.WriteLine(\"== Printing Collections in DB ==\");\n",
    "var theCollections = memoryStore.GetCollectionsAsync();\n",
    "await foreach (var collection in theCollections)\n",
    "{\n",
    "    Console.WriteLine(collection);\n",
    "}\n",
    "\n",
    "Console.WriteLine(\"== Removing Collection {0} ==\", memoryCollectionDelete);\n",
    "await memoryStore.DeleteCollectionAsync(memoryCollectionDelete);\n",
    "\n",
    "Console.WriteLine(\"== Printing Collections in DB ==\");\n",
    "await foreach (var collection in theCollections)\n",
    "{\n",
    "    Console.WriteLine(collection);\n",
    "}"
   ]
  }
 ],
 "metadata": {
  "kernelspec": {
   "display_name": ".NET (C#)",
   "language": "C#",
   "name": ".net-csharp"
  },
  "language_info": {
   "name": "polyglot-notebook"
  },
  "polyglot_notebook": {
   "kernelInfo": {
    "defaultKernelName": "csharp",
    "items": [
     {
      "aliases": [],
      "languageName": "csharp",
      "name": "csharp"
     }
    ]
   }
  }
 },
 "nbformat": 4,
 "nbformat_minor": 2
}
