{
 "cells": [
  {
   "attachments": {},
   "cell_type": "markdown",
   "metadata": {},
   "source": [
    "\n",
    "___\n",
    "### **Import the SDK via NUGET**\n"
   ]
  },
  {
   "cell_type": "code",
   "execution_count": 1,
   "metadata": {
    "dotnet_interactive": {
     "language": "csharp"
    },
    "polyglot_notebook": {
     "kernelName": "csharp"
    }
   },
   "outputs": [
    {
     "data": {
      "text/html": [
       "<div><div></div><div></div><div><strong>Installed Packages</strong><ul><li><span>Azure.AI.OpenAI, 1.0.0-beta.5</span></li></ul></div></div>"
      ]
     },
     "metadata": {},
     "output_type": "display_data"
    }
   ],
   "source": [
    "\n",
    "#r \"nuget: Azure.AI.OpenAI, 1.0.0-beta.5\""
   ]
  },
  {
   "attachments": {},
   "cell_type": "markdown",
   "metadata": {},
   "source": [
    "---\n",
    "### **Load configuration from secrets.json**"
   ]
  },
  {
   "cell_type": "code",
   "execution_count": 2,
   "metadata": {
    "dotnet_interactive": {
     "language": "csharp"
    },
    "polyglot_notebook": {
     "kernelName": "csharp"
    }
   },
   "outputs": [],
   "source": [
    "\n",
    "#!import ../Settings/AppConfig.cs\n",
    "\n",
    "AppConfig.aoaiSettings apiConfig = AppConfig.GetSecrets();\n",
    "\n",
    "// Get AOAI values\n",
    "string mydeploymentName = apiConfig.deployTurbo;\n",
    "string myendpoint = apiConfig.endpoint;\n",
    "string myAPIKey = apiConfig.APIKey;\n",
    "\n",
    "//NOTE: If you run the below writeline command, be sure to clear the output before pushing to repo!!\n",
    "//Console.WriteLine(mydeploymentName + \" & \" + myendpoint + \" & \" + myAPIKey);\n",
    "\n"
   ]
  },
  {
   "cell_type": "markdown",
   "metadata": {},
   "source": [
    "___\n",
    "### **Create Azure Open AI API client**"
   ]
  },
  {
   "cell_type": "code",
   "execution_count": 3,
   "metadata": {
    "dotnet_interactive": {
     "language": "csharp"
    },
    "polyglot_notebook": {
     "kernelName": "csharp"
    }
   },
   "outputs": [],
   "source": [
    "\n",
    "// Add necessary namespaces\n",
    "using Azure;\n",
    "using Azure.AI.OpenAI;\n",
    "//using static System.Environment;\n",
    "//using Microsoft.DotNet.Interactive;\n",
    "\n",
    "// Create a new OpenAI client using the specified endpoint and API key\n",
    "OpenAIClient client = new(new Uri(myendpoint), new AzureKeyCredential(myAPIKey));\n",
    "\n",
    "// Print the endpoint and engine name to the console\n",
    "// Console.WriteLine($\"endpoint: {myendpoint}\\n\");\n",
    "// Console.Write($\"engine: {mydeploymentName}\\n\");\n",
    "\n"
   ]
  },
  {
   "cell_type": "markdown",
   "metadata": {},
   "source": [
    "___\n",
    "### **Set the System & User Chat Message**"
   ]
  },
  {
   "cell_type": "code",
   "execution_count": 4,
   "metadata": {
    "dotnet_interactive": {
     "language": "csharp"
    },
    "polyglot_notebook": {
     "kernelName": "csharp"
    }
   },
   "outputs": [],
   "source": [
    "// Define the chat completion options\n",
    "var chatCompletionsOptions = new ChatCompletionsOptions()\n",
    "{\n",
    "    Messages =\n",
    "    {\n",
    "        // Send a system message to set the context\n",
    "        new ChatMessage(ChatRole.System, \"You are Batman from the TV show Batman and Robin. Pretend to be Batman. Please limit your response to 25 words.\"),\n",
    "        \n",
    "        // Send a user message to prompt for an introduction\n",
    "        new ChatMessage(ChatRole.User, \"Introduce yourself.\"),\n",
    "    },\n",
    "    MaxTokens = 50,    \n",
    "    Temperature = 0    \n",
    "    \n",
    "};\n",
    "\n",
    "// Send the chat completion options to the OpenAI API and get a response\n",
    "// Response<ChatCompletions> response = client.GetChatCompletions(mydeploymentName, chatCompletionsOptions);\n",
    "\n",
    "// Print the response to the console\n",
    "// Console.WriteLine(\"Batman: \" + response.Value.Choices[0].Message.Content);\n",
    "// Console.WriteLine();"
   ]
  },
  {
   "cell_type": "markdown",
   "metadata": {},
   "source": [
    "---\n",
    "### **Batman Chat**"
   ]
  },
  {
   "cell_type": "code",
   "execution_count": 5,
   "metadata": {
    "dotnet_interactive": {
     "language": "csharp"
    },
    "polyglot_notebook": {
     "kernelName": "csharp"
    }
   },
   "outputs": [
    {
     "name": "stdout",
     "output_type": "stream",
     "text": [
      "Fan prompt: Introduce yourself\n",
      "Batman: I am Batman, the Dark Knight of Gotham City.\n",
      "Fan prompt: who is your favorite villain\n",
      "Batman: My favorite villain is the Joker.\n",
      "Fan prompt: With whom from the police department do you work?\n",
      "Batman: I work with Commissioner Gordon and the Gotham City Police Department.\n",
      "Fan prompt: "
     ]
    },
    {
     "ename": "Error",
     "evalue": "Input request cancelled",
     "output_type": "error",
     "traceback": [
      "Input request cancelled"
     ]
    },
    {
     "ename": "Error",
     "evalue": "Input request cancelled",
     "output_type": "error",
     "traceback": [
      "Input request cancelled"
     ]
    },
    {
     "ename": "Error",
     "evalue": "System.Exception: Input request cancelled\n   at Microsoft.DotNet.Interactive.Kernel.GetInputAsync(String prompt, Boolean isPassword, String typeHint, String valueName) in D:\\a\\_work\\1\\s\\src\\Microsoft.DotNet.Interactive\\Kernel.Static.cs:line 71\n   at Microsoft.DotNet.Interactive.Kernel.GetInputAsync(String prompt, String typeHint, String valueName) in D:\\a\\_work\\1\\s\\src\\Microsoft.DotNet.Interactive\\Kernel.Static.cs:line 46\n   at Submission#6.<<Initialize>>d__0.MoveNext()\n--- End of stack trace from previous location ---\n   at Microsoft.CodeAnalysis.Scripting.ScriptExecutionState.RunSubmissionsAsync[TResult](ImmutableArray`1 precedingExecutors, Func`2 currentExecutor, StrongBox`1 exceptionHolderOpt, Func`2 catchExceptionOpt, CancellationToken cancellationToken)",
     "output_type": "error",
     "traceback": [
      "System.Exception: Input request cancelled\n",
      "   at Microsoft.DotNet.Interactive.Kernel.GetInputAsync(String prompt, Boolean isPassword, String typeHint, String valueName) in D:\\a\\_work\\1\\s\\src\\Microsoft.DotNet.Interactive\\Kernel.Static.cs:line 71\n",
      "   at Microsoft.DotNet.Interactive.Kernel.GetInputAsync(String prompt, String typeHint, String valueName) in D:\\a\\_work\\1\\s\\src\\Microsoft.DotNet.Interactive\\Kernel.Static.cs:line 46\n",
      "   at Submission#6.<<Initialize>>d__0.MoveNext()\n",
      "--- End of stack trace from previous location ---\n",
      "   at Microsoft.CodeAnalysis.Scripting.ScriptExecutionState.RunSubmissionsAsync[TResult](ImmutableArray`1 precedingExecutors, Func`2 currentExecutor, StrongBox`1 exceptionHolderOpt, Func`2 catchExceptionOpt, CancellationToken cancellationToken)"
     ]
    }
   ],
   "source": [
    "// Prompt the user for input and send it to the OpenAI API as a chat message\n",
    "Console.Write(\"Fan prompt: \");\n",
    "var userMessage = await Kernel.GetInputAsync(\"Fan prompt:\");\n",
    "Console.WriteLine(userMessage);\n",
    "\n",
    "// get input from the user and set the context variable\n",
    "// var input = await InteractiveKernel.GetInputAsync($\"{botPrompt} ({(i+1)} of {numberOfRounds})\");\n",
    "// myContext.Set(\"input\", input); \n",
    "\n",
    "chatCompletionsOptions.Messages.Add(new ChatMessage(ChatRole.User, userMessage));\n",
    "\n",
    "// Start an infinite loop to receive chat responses from the OpenAI API\n",
    "while (true)\n",
    "{\n",
    "    Console.Write(\"Batman: \");\n",
    "\n",
    "    // Send the chat completion options to the OpenAI API and get a streaming response\n",
    "    var chatCompletionsResponse = await client.GetChatCompletionsStreamingAsync(mydeploymentName, chatCompletionsOptions);\n",
    "\n",
    "    // Build a string containing the chat response and print it to the console\n",
    "    var chatResponseBuilder = new StringBuilder();\n",
    "    await foreach (var chatChoice in chatCompletionsResponse.Value.GetChoicesStreaming())\n",
    "    {\n",
    "        await foreach (var chatMessage in chatChoice.GetMessageStreaming())\n",
    "        {\n",
    "            chatResponseBuilder.Append(chatMessage.Content);\n",
    "            Console.Write(chatMessage.Content);\n",
    "            await Task.Delay(TimeSpan.FromMilliseconds(200));\n",
    "        }\n",
    "    }\n",
    "\n",
    "    // Add the chat response to the chat completion options as an assistant message\n",
    "    chatCompletionsOptions.Messages.Add(new ChatMessage(ChatRole.Assistant, chatResponseBuilder.ToString()));\n",
    "    string cat = chatResponseBuilder.ToString();\n",
    "    Console.WriteLine();\n",
    "\n",
    "    // Prompt the user for input and send it to the OpenAI API as a chat message\n",
    "    //var input = await InteractiveKernel.GetInputAsync($\"{botPrompt} ({(i+1)} of {numberOfRounds})\");\n",
    "    Console.Write(\"Fan prompt: \");\n",
    "    var userMessage = await Kernel.GetInputAsync(chatResponseBuilder.ToString() + \" Fan prompt:\");\n",
    "    Console.Write(userMessage);\n",
    "\n",
    "    chatCompletionsOptions.Messages.Add(new ChatMessage(ChatRole.User, userMessage));\n",
    "    Console.WriteLine();\n",
    "}"
   ]
  }
 ],
 "metadata": {
  "kernelspec": {
   "display_name": ".NET (C#)",
   "language": "C#",
   "name": ".net-csharp"
  },
  "language_info": {
   "name": "polyglot-notebook"
  },
  "polyglot_notebook": {
   "kernelInfo": {
    "defaultKernelName": "csharp",
    "items": [
     {
      "aliases": [],
      "languageName": "csharp",
      "name": "csharp"
     }
    ]
   }
  }
 },
 "nbformat": 4,
 "nbformat_minor": 2
}
